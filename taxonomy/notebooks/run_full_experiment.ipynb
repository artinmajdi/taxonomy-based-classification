{
 "cells": [
  {
   "cell_type": "markdown",
   "metadata": {
    "collapsed": false
   },
   "source": [
    "### Taxonomy Structure\n",
    "| Parent                     | Child List                                                                    |\n",
    "|----------------------------|-------------------------------------------------------------------------------|\n",
    "| Lung Opacity               | Pneumonia ,  Atelectasis , Consolidation , Lung Lesion , Edema , Infiltration |\n",
    "| Enlarged Cardiomediastinum | Cardiomegaly                                                                  |\n",
    "| Infiltration               | Consolidation                                                                 |"
   ]
  },
  {
   "cell_type": "code",
   "execution_count": 1,
   "metadata": {
    "ExecuteTime": {
     "end_time": "2023-04-19T08:49:48.040229Z",
     "start_time": "2023-04-19T08:49:41.019937Z"
    },
    "collapsed": false
   },
   "outputs": [],
   "source": [
    "%load_ext autoreload\n",
    "%autoreload 2\n",
    "from taxonomy.utilities.utils import TaxonomyTorchXrayVision, reading_user_input_arguments, CalculateNewFindings, CalculateOriginalFindings, HyperParameterTuning"
   ]
  },
  {
   "cell_type": "markdown",
   "metadata": {
    "collapsed": false
   },
   "source": [
    "# Run"
   ]
  },
  {
   "cell_type": "code",
   "execution_count": null,
   "metadata": {
    "collapsed": false
   },
   "outputs": [],
   "source": [
    "# System.list_physical_devices"
   ]
  },
  {
   "cell_type": "code",
   "execution_count": 3,
   "metadata": {
    "collapsed": false
   },
   "outputs": [],
   "source": [
    "approach = 'loss' # ModelFindingNames.LOGIT\n",
    "aim1_1 = TaxonomyTorchXrayVision.run_full_experiment(approach=approach)"
   ]
  },
  {
   "cell_type": "markdown",
   "metadata": {
    "collapsed": false
   },
   "source": [
    "# Detailed"
   ]
  },
  {
   "attachments": {},
   "cell_type": "markdown",
   "metadata": {},
   "source": [
    "### Loading train/test data as well as the pre-trained model"
   ]
  },
  {
   "cell_type": "code",
   "execution_count": 4,
   "metadata": {
    "ExecuteTime": {
     "end_time": "2023-04-17T00:15:52.215668Z",
     "start_time": "2023-04-17T00:15:50.507651Z"
    }
   },
   "outputs": [],
   "source": [
    "# Getting the user arguments\n",
    "config = reading_user_input_arguments(jupyter=True)\n",
    "\n",
    "# Initializing the class\n",
    "FE = TaxonomyTorchXrayVision(config=config)"
   ]
  },
  {
   "cell_type": "code",
   "execution_count": 5,
   "metadata": {
    "ExecuteTime": {
     "end_time": "2023-04-17T00:17:25.523533Z",
     "start_time": "2023-04-17T00:17:21.969573Z"
    }
   },
   "outputs": [
    {
     "ename": "AttributeError",
     "evalue": "type object 'TaxonomyTorchXrayVision' has no attribute 'load_data_and_model'",
     "output_type": "error",
     "traceback": [
      "\u001B[0;31m---------------------------------------------------------------------------\u001B[0m",
      "\u001B[0;31mAttributeError\u001B[0m                            Traceback (most recent call last)",
      "Cell \u001B[0;32mIn[5], line 1\u001B[0m\n\u001B[0;32m----> 1\u001B[0m FE\u001B[39m.\u001B[39mtrain, FE\u001B[39m.\u001B[39mtest, FE\u001B[39m.\u001B[39mmodel \u001B[39m=\u001B[39m TaxonomyTorchXrayVision\u001B[39m.\u001B[39;49mload_data_and_model(FE\u001B[39m.\u001B[39mconfig)\n",
      "\u001B[0;31mAttributeError\u001B[0m: type object 'TaxonomyTorchXrayVision' has no attribute 'load_data_and_model'"
     ]
    }
   ],
   "source": [
    "FE.train, FE.test, FE.model = TaxonomyTorchXrayVision.load_data_and_model(FE.config)"
   ]
  },
  {
   "cell_type": "code",
   "execution_count": null,
   "metadata": {
    "ExecuteTime": {
     "end_time": "2023-04-17T00:47:24.748386Z",
     "start_time": "2023-04-17T00:47:24.307920Z"
    },
    "collapsed": false
   },
   "outputs": [],
   "source": [
    "# labels = FE.train.labels\n",
    "\n",
    "# n_classes = len(labels.unique)\n",
    "# total_requested_n_samples = config.n_batches_to_process * config.batch_size\n",
    "\n",
    "# # n_samples_per_class = labels.totals.apply(lambda row: min(row.min(), total_requested_n_samples / n_classes) ).to_frame('n_samples_per_class').replace(np.nan, '').T\n",
    "\n",
    "# class_ratio = labels.totals.apply(lambda row: row[0]/row[1]).replace(np.nan, '').T\n",
    "\n",
    "# class_ratio"
   ]
  },
  {
   "attachments": {},
   "cell_type": "markdown",
   "metadata": {},
   "source": [
    "### Measuring the ORIGINAL metrics (predictions and losses, thresholds, aucs, etc.)"
   ]
  },
  {
   "cell_type": "code",
   "execution_count": null,
   "metadata": {
    "ExecuteTime": {
     "end_time": "2023-04-16T06:00:41.248601Z",
     "start_time": "2023-04-16T05:59:44.862185Z"
    }
   },
   "outputs": [],
   "source": [
    "param = {key: getattr(FE, key) for key in ['model', 'config']}\n",
    "FE.train = CalculateOriginalFindings.get_updated_data(data=FE.train, **param)\n",
    "FE.test  = CalculateOriginalFindings.get_updated_data(data=FE.test , **param)"
   ]
  },
  {
   "attachments": {},
   "cell_type": "markdown",
   "metadata": {},
   "source": [
    "### Calculating the hyperparameters"
   ]
  },
  {
   "cell_type": "code",
   "execution_count": null,
   "metadata": {
    "ExecuteTime": {
     "end_time": "2023-04-16T06:11:05.544175Z",
     "start_time": "2023-04-16T06:10:59.278757Z"
    }
   },
   "outputs": [],
   "source": [
    "FE.hyperparameters = HyperParameterTuning.get_updated_data(data=FE.train, **param)"
   ]
  },
  {
   "cell_type": "code",
   "execution_count": null,
   "metadata": {},
   "outputs": [],
   "source": [
    "FE.get_metric(metric=MetricNames.AUC, data_mode='train')"
   ]
  },
  {
   "cell_type": "code",
   "execution_count": null,
   "metadata": {},
   "outputs": [],
   "source": [
    "FE.hyperparameters['ROC']"
   ]
  },
  {
   "attachments": {},
   "cell_type": "markdown",
   "metadata": {},
   "source": [
    "### Adding the new findings to the graph nodes"
   ]
  },
  {
   "cell_type": "code",
   "execution_count": null,
   "metadata": {
    "ExecuteTime": {
     "end_time": "2023-04-16T05:53:21.734309Z",
     "start_time": "2023-04-16T05:53:21.507385Z"
    }
   },
   "outputs": [],
   "source": [
    "FE.train.Hierarchy_cls.update_graph(hyperparameters=FE.hyperparameters)\n",
    "FE.test. Hierarchy_cls.update_graph(hyperparameters=FE.hyperparameters)"
   ]
  },
  {
   "attachments": {},
   "cell_type": "markdown",
   "metadata": {},
   "source": [
    "### Measuring the updated metrics (predictions and losses, thresholds, aucs, etc.)"
   ]
  },
  {
   "cell_type": "code",
   "execution_count": null,
   "metadata": {
    "ExecuteTime": {
     "end_time": "2023-04-16T05:53:23.131433Z",
     "start_time": "2023-04-16T05:53:21.735585Z"
    }
   },
   "outputs": [],
   "source": [
    "params = {key: getattr(FE, key) for key in ['model', 'config', 'hyperparameters']}\n",
    "FE.train = CalculateNewFindings.get_updated_data(data=FE.train, **params)\n",
    "FE.test  = CalculateNewFindings.get_updated_data(data=FE.test , **params)"
   ]
  },
  {
   "cell_type": "code",
   "execution_count": null,
   "metadata": {},
   "outputs": [],
   "source": [
    "FE.hyperparameters['ROC']"
   ]
  },
  {
   "attachments": {},
   "cell_type": "markdown",
   "metadata": {},
   "source": [
    "### Saving the metrics: AUC, threshold, accuracy"
   ]
  },
  {
   "cell_type": "code",
   "execution_count": null,
   "metadata": {
    "ExecuteTime": {
     "end_time": "2023-04-16T05:53:23.620801Z",
     "start_time": "2023-04-16T05:53:23.131997Z"
    }
   },
   "outputs": [],
   "source": [
    "FE.save_metrics()"
   ]
  },
  {
   "cell_type": "code",
   "execution_count": null,
   "metadata": {
    "ExecuteTime": {
     "end_time": "2023-04-16T05:53:24.092048Z",
     "start_time": "2023-04-16T05:53:23.850795Z"
    }
   },
   "outputs": [],
   "source": [
    "FE.get_metric(metric=MetricNames.AUC, data_mode='test')"
   ]
  },
  {
   "cell_type": "code",
   "execution_count": null,
   "metadata": {
    "collapsed": false
   },
   "outputs": [],
   "source": []
  }
 ],
 "metadata": {
  "kernelspec": {
   "display_name": "main",
   "language": "python",
   "name": "python3"
  },
  "language_info": {
   "codemirror_mode": {
    "name": "ipython",
    "version": 3
   },
   "file_extension": ".py",
   "mimetype": "text/x-python",
   "name": "python",
   "nbconvert_exporter": "python",
   "pygments_lexer": "ipython3",
   "version": "3.10.6"
  },
  "orig_nbformat": 4
 },
 "nbformat": 4,
 "nbformat_minor": 2
}
