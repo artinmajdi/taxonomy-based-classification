{
 "cells": [
  {
   "cell_type": "code",
   "execution_count": 1,
   "id": "2f1ce02811fb9ccd",
   "metadata": {
    "collapsed": false,
    "ExecuteTime": {
     "end_time": "2023-08-18T23:10:00.805686700Z",
     "start_time": "2023-08-18T23:09:58.835608600Z"
    }
   },
   "outputs": [],
   "source": [
    "import pandas as pd\n",
    "from dataclasses import dataclass, field\n",
    "from typing import Dict, Set\n"
   ]
  },
  {
   "cell_type": "code",
   "execution_count": 4,
   "id": "2d21f8bbc5e3ac75",
   "metadata": {
    "collapsed": false,
    "ExecuteTime": {
     "end_time": "2023-08-18T23:10:37.614722100Z",
     "start_time": "2023-08-18T23:10:37.603020300Z"
    }
   },
   "outputs": [],
   "source": []
  },
  {
   "cell_type": "code",
   "execution_count": 5,
   "outputs": [
    {
     "data": {
      "text/plain": "Nodes(classes=['this', 'that'], parents={'Lung Opacity', 'Enlarged Cardiomediastinum'}, non_null=['this', 'that'], impacted=['this', 'that'], exist_in_taxonomy=['this', 'that'], node_thresh_tuple=set())"
     },
     "execution_count": 5,
     "metadata": {},
     "output_type": "execute_result"
    }
   ],
   "source": [
    "nodes = Nodes(classes=['this' , 'that'])\n",
    "nodes"
   ],
   "metadata": {
    "collapsed": false,
    "ExecuteTime": {
     "end_time": "2023-08-18T23:10:40.786217600Z",
     "start_time": "2023-08-18T23:10:40.772343900Z"
    }
   },
   "id": "744a72c26bfb3b8c"
  },
  {
   "cell_type": "code",
   "execution_count": 6,
   "outputs": [],
   "source": [
    "taxonomy = {'Lung Opacity': {'Pneumonia', 'Atelectasis', 'Consolidation', 'Lung Lesion', 'Edema', 'Infiltration'}, 'Enlarged Cardiomediastinum': {'Cardiomegaly'}}"
   ],
   "metadata": {
    "collapsed": false,
    "ExecuteTime": {
     "end_time": "2023-08-18T23:14:27.410831Z",
     "start_time": "2023-08-18T23:14:27.386688700Z"
    }
   },
   "id": "9af0b1814e9a5d15"
  },
  {
   "cell_type": "code",
   "execution_count": 25,
   "outputs": [
    {
     "data": {
      "text/plain": "'Lung Opacity'"
     },
     "execution_count": 25,
     "metadata": {},
     "output_type": "execute_result"
    }
   ],
   "source": [
    "\n",
    "    \n"
   ],
   "metadata": {
    "collapsed": false,
    "ExecuteTime": {
     "end_time": "2023-08-18T23:21:00.075315100Z",
     "start_time": "2023-08-18T23:21:00.056937900Z"
    }
   },
   "id": "766c945b47b553a7"
  }
 ],
 "metadata": {
  "kernelspec": {
   "display_name": "Python 3",
   "language": "python",
   "name": "python3"
  },
  "language_info": {
   "codemirror_mode": {
    "name": "ipython",
    "version": 3
   },
   "file_extension": ".py",
   "mimetype": "text/x-python",
   "name": "python",
   "nbconvert_exporter": "python",
   "pygments_lexer": "ipython3",
   "version": "3.10.12"
  }
 },
 "nbformat": 4,
 "nbformat_minor": 5
}
