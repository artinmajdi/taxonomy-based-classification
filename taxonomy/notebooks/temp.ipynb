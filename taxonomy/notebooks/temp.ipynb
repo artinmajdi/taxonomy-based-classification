{
 "cells": [
  {
   "cell_type": "code",
   "execution_count": 4,
   "id": "2f1ce02811fb9ccd",
   "metadata": {
    "collapsed": false,
    "ExecuteTime": {
     "end_time": "2023-08-20T02:57:14.709802800Z",
     "start_time": "2023-08-20T02:57:14.289626200Z"
    }
   },
   "outputs": [
    {
     "ename": "AttributeError",
     "evalue": "LOSS_BASED",
     "output_type": "error",
     "traceback": [
      "\u001B[1;31m---------------------------------------------------------------------------\u001B[0m",
      "\u001B[1;31mAttributeError\u001B[0m                            Traceback (most recent call last)",
      "Cell \u001B[1;32mIn[4], line 1\u001B[0m\n\u001B[1;32m----> 1\u001B[0m \u001B[38;5;28;01mfrom\u001B[39;00m \u001B[38;5;21;01mtaxonomy\u001B[39;00m\u001B[38;5;21;01m.\u001B[39;00m\u001B[38;5;21;01mutilities\u001B[39;00m\u001B[38;5;21;01m.\u001B[39;00m\u001B[38;5;21;01mdata\u001B[39;00m \u001B[38;5;28;01mimport\u001B[39;00m  Labels\n\u001B[0;32m      2\u001B[0m \u001B[38;5;28;01mfrom\u001B[39;00m \u001B[38;5;21;01mtaxonomy\u001B[39;00m\u001B[38;5;21;01m.\u001B[39;00m\u001B[38;5;21;01mutilities\u001B[39;00m\u001B[38;5;21;01m.\u001B[39;00m\u001B[38;5;21;01mmodel\u001B[39;00m \u001B[38;5;28;01mimport\u001B[39;00m LoadModelXRV\n",
      "File \u001B[1;32mF:\\GitHubs\\PhD\\phd_code\\submodules\\taxonomy\\taxonomy\\__init__.py:1\u001B[0m\n\u001B[1;32m----> 1\u001B[0m \u001B[38;5;28;01mfrom\u001B[39;00m \u001B[38;5;21;01m.\u001B[39;00m\u001B[38;5;21;01mutilities\u001B[39;00m \u001B[38;5;28;01mimport\u001B[39;00m data, params, utils, findings, model\n\u001B[0;32m      2\u001B[0m \u001B[38;5;28;01mfrom\u001B[39;00m \u001B[38;5;21;01m.\u001B[39;00m \u001B[38;5;28;01mimport\u001B[39;00m utilities\n",
      "File \u001B[1;32mF:\\GitHubs\\PhD\\phd_code\\submodules\\taxonomy\\taxonomy\\utilities\\__init__.py:1\u001B[0m\n\u001B[1;32m----> 1\u001B[0m \u001B[38;5;28;01mfrom\u001B[39;00m \u001B[38;5;21;01m.\u001B[39;00m \u001B[38;5;28;01mimport\u001B[39;00m data, params, utils, findings, model\n",
      "File \u001B[1;32mF:\\GitHubs\\PhD\\phd_code\\submodules\\taxonomy\\taxonomy\\utilities\\utils.py:693\u001B[0m\n\u001B[0;32m    689\u001B[0m \tROC: \t\t\t  MetricsAllTechniques\n\u001B[0;32m    690\u001B[0m \tPRECISION_RECALL: MetricsAllTechniques\n\u001B[1;32m--> 693\u001B[0m \u001B[38;5;28;01mclass\u001B[39;00m \u001B[38;5;21;01mTaxonomyXRV\u001B[39;00m:\n\u001B[0;32m    695\u001B[0m \t\u001B[38;5;28;01mdef\u001B[39;00m \u001B[38;5;21m__init__\u001B[39m(\u001B[38;5;28mself\u001B[39m, config: argparse\u001B[38;5;241m.\u001B[39mNamespace, seed: \u001B[38;5;28mint\u001B[39m\u001B[38;5;241m=\u001B[39m\u001B[38;5;241m10\u001B[39m):\n\u001B[0;32m    697\u001B[0m \t\t\u001B[38;5;28mself\u001B[39m\u001B[38;5;241m.\u001B[39mhyperparameters \u001B[38;5;241m=\u001B[39m \u001B[38;5;28;01mNone\u001B[39;00m\n",
      "File \u001B[1;32mF:\\GitHubs\\PhD\\phd_code\\submodules\\taxonomy\\taxonomy\\utilities\\utils.py:903\u001B[0m, in \u001B[0;36mTaxonomyXRV\u001B[1;34m()\u001B[0m\n\u001B[0;32m    898\u001B[0m \tLD\u001B[38;5;241m.\u001B[39mload()\n\u001B[0;32m    900\u001B[0m \t\u001B[38;5;28;01mreturn\u001B[39;00m LD\u001B[38;5;241m.\u001B[39mtrain, LD\u001B[38;5;241m.\u001B[39mtest, model, LD\u001B[38;5;241m.\u001B[39md_data\n\u001B[0;32m    902\u001B[0m \u001B[38;5;129m@classmethod\u001B[39m\n\u001B[1;32m--> 903\u001B[0m \u001B[38;5;28;01mdef\u001B[39;00m \u001B[38;5;21mrun_full_experiment\u001B[39m(\u001B[38;5;28mcls\u001B[39m, methodName\u001B[38;5;241m=\u001B[39m\u001B[43mMethodNames\u001B[49m\u001B[38;5;241;43m.\u001B[39;49m\u001B[43mLOSS_BASED\u001B[49m, seed\u001B[38;5;241m=\u001B[39m\u001B[38;5;241m10\u001B[39m, \u001B[38;5;241m*\u001B[39m\u001B[38;5;241m*\u001B[39mkwargs):\n\u001B[0;32m    904\u001B[0m \n\u001B[0;32m    905\u001B[0m \t\u001B[38;5;66;03m# Getting the user arguments\u001B[39;00m\n\u001B[0;32m    906\u001B[0m \tconfig \u001B[38;5;241m=\u001B[39m reading_user_input_arguments(jupyter\u001B[38;5;241m=\u001B[39m\u001B[38;5;28;01mTrue\u001B[39;00m, methodName\u001B[38;5;241m=\u001B[39mmethodName\u001B[38;5;241m.\u001B[39mname, \u001B[38;5;241m*\u001B[39m\u001B[38;5;241m*\u001B[39mkwargs)\n\u001B[0;32m    908\u001B[0m \t\u001B[38;5;66;03m# Initializing the class\u001B[39;00m\n",
      "File \u001B[1;32m~\\.conda\\envs\\taxonomy\\lib\\enum.py:437\u001B[0m, in \u001B[0;36mEnumMeta.__getattr__\u001B[1;34m(cls, name)\u001B[0m\n\u001B[0;32m    435\u001B[0m     \u001B[38;5;28;01mreturn\u001B[39;00m \u001B[38;5;28mcls\u001B[39m\u001B[38;5;241m.\u001B[39m_member_map_[name]\n\u001B[0;32m    436\u001B[0m \u001B[38;5;28;01mexcept\u001B[39;00m \u001B[38;5;167;01mKeyError\u001B[39;00m:\n\u001B[1;32m--> 437\u001B[0m     \u001B[38;5;28;01mraise\u001B[39;00m \u001B[38;5;167;01mAttributeError\u001B[39;00m(name) \u001B[38;5;28;01mfrom\u001B[39;00m \u001B[38;5;28;01mNone\u001B[39;00m\n",
      "\u001B[1;31mAttributeError\u001B[0m: LOSS_BASED"
     ]
    }
   ],
   "source": [
    "from taxonomy.utilities.data import  Labels\n",
    "from taxonomy.utilities.model import LoadModelXRV"
   ]
  },
  {
   "cell_type": "code",
   "execution_count": null,
   "id": "2d21f8bbc5e3ac75",
   "metadata": {
    "collapsed": false,
    "ExecuteTime": {
     "start_time": "2023-08-20T02:13:13.258509800Z"
    }
   },
   "outputs": [],
   "source": [
    "!python --version"
   ]
  }
 ],
 "metadata": {
  "kernelspec": {
   "display_name": "Python 3",
   "language": "python",
   "name": "python3"
  },
  "language_info": {
   "codemirror_mode": {
    "name": "ipython",
    "version": 3
   },
   "file_extension": ".py",
   "mimetype": "text/x-python",
   "name": "python",
   "nbconvert_exporter": "python",
   "pygments_lexer": "ipython3",
   "version": "3.10.12"
  }
 },
 "nbformat": 4,
 "nbformat_minor": 5
}
