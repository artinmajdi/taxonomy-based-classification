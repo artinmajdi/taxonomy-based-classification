{
 "cells": [
  {
   "cell_type": "code",
   "execution_count": 4,
   "id": "2d21f8bbc5e3ac75",
   "metadata": {
    "collapsed": false,
    "ExecuteTime": {
     "end_time": "2023-08-22T22:25:00.892825400Z",
     "start_time": "2023-08-22T22:25:00.882530800Z"
    }
   },
   "outputs": [],
   "source": [
    "from taxonomy.utilities.settings import get_settings"
   ]
  },
  {
   "cell_type": "code",
   "execution_count": 5,
   "outputs": [],
   "source": [
    "config = get_settings()"
   ],
   "metadata": {
    "collapsed": false,
    "ExecuteTime": {
     "end_time": "2023-08-22T22:25:02.585067700Z",
     "start_time": "2023-08-22T22:25:02.560900900Z"
    }
   },
   "id": "f83dc4fd2c5095cf"
  },
  {
   "cell_type": "code",
   "execution_count": 8,
   "outputs": [
    {
     "data": {
      "text/plain": "ValueError('Config file not found at F:\\\\GitHubs\\\\PhD\\\\phd_code\\\\submodules\\\\taxonomy\\\\taxonomy\\\\utilities\\\\config.json')"
     },
     "execution_count": 8,
     "metadata": {},
     "output_type": "execute_result"
    }
   ],
   "source": [
    "config"
   ],
   "metadata": {
    "collapsed": false,
    "ExecuteTime": {
     "end_time": "2023-08-22T22:25:29.232021800Z",
     "start_time": "2023-08-22T22:25:29.201143100Z"
    }
   },
   "id": "bae81ce85de3d833"
  },
  {
   "cell_type": "code",
   "execution_count": 7,
   "outputs": [
    {
     "ename": "AttributeError",
     "evalue": "'ValueError' object has no attribute 'output'",
     "output_type": "error",
     "traceback": [
      "\u001B[1;31m---------------------------------------------------------------------------\u001B[0m",
      "\u001B[1;31mAttributeError\u001B[0m                            Traceback (most recent call last)",
      "Cell \u001B[1;32mIn[7], line 1\u001B[0m\n\u001B[1;32m----> 1\u001B[0m \u001B[43mconfig\u001B[49m\u001B[38;5;241;43m.\u001B[39;49m\u001B[43moutput\u001B[49m\n",
      "\u001B[1;31mAttributeError\u001B[0m: 'ValueError' object has no attribute 'output'"
     ]
    }
   ],
   "source": [
    "config.output"
   ],
   "metadata": {
    "collapsed": false,
    "ExecuteTime": {
     "end_time": "2023-08-22T22:25:14.696958Z",
     "start_time": "2023-08-22T22:25:14.645331Z"
    }
   },
   "id": "e2feee072938992f"
  }
 ],
 "metadata": {
  "kernelspec": {
   "display_name": "Python 3",
   "language": "python",
   "name": "python3"
  },
  "language_info": {
   "codemirror_mode": {
    "name": "ipython",
    "version": 3
   },
   "file_extension": ".py",
   "mimetype": "text/x-python",
   "name": "python",
   "nbconvert_exporter": "python",
   "pygments_lexer": "ipython3",
   "version": "3.10.12"
  }
 },
 "nbformat": 4,
 "nbformat_minor": 5
}
