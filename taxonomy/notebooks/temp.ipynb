{
 "cells": [
  {
   "cell_type": "code",
   "execution_count": 1,
   "outputs": [
    {
     "data": {
      "text/plain": "{'Lung Opacity': {'Atelectasis',\n  'Consolidation',\n  'Edema',\n  'Infiltration',\n  'Lung Lesion',\n  'Pneumonia'},\n 'Enlarged Cardiomediastinum': {'Cardiomegaly'}}"
     },
     "execution_count": 1,
     "metadata": {},
     "output_type": "execute_result"
    }
   ],
   "source": [
    "from taxonomy.utilities.settings import get_settings\n",
    "config = get_settings(config_path='../config.json')\n",
    "config.dataset.default_taxonomy\n"
   ],
   "metadata": {
    "collapsed": false,
    "ExecuteTime": {
     "end_time": "2023-09-13T10:45:06.070227100Z",
     "start_time": "2023-09-13T10:45:02.614301600Z"
    }
   },
   "id": "6cf777f5cb7e326a"
  },
  {
   "cell_type": "code",
   "execution_count": 5,
   "outputs": [
    {
     "data": {
      "text/plain": "True"
     },
     "execution_count": 5,
     "metadata": {},
     "output_type": "execute_result"
    }
   ],
   "source": [
    "x1 = {'a', 'b', 'c'}\n",
    "x2 = {'a' , 'b'}\n",
    "\n",
    "x2.issubset(x1)"
   ],
   "metadata": {
    "collapsed": false,
    "ExecuteTime": {
     "end_time": "2023-09-13T23:37:24.778127100Z",
     "start_time": "2023-09-13T23:37:24.766008100Z"
    }
   },
   "id": "eaee88bf874db89d"
  }
 ],
 "metadata": {
  "kernelspec": {
   "display_name": "Python 3",
   "language": "python",
   "name": "python3"
  },
  "language_info": {
   "codemirror_mode": {
    "name": "ipython",
    "version": 3
   },
   "file_extension": ".py",
   "mimetype": "text/x-python",
   "name": "python",
   "nbconvert_exporter": "python",
   "pygments_lexer": "ipython3",
   "version": "3.10.12"
  }
 },
 "nbformat": 4,
 "nbformat_minor": 5
}
