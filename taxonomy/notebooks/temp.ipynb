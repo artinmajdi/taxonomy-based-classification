{
 "cells": [
  {
   "cell_type": "code",
   "execution_count": 7,
   "id": "2f1ce02811fb9ccd",
   "metadata": {
    "collapsed": false,
    "ExecuteTime": {
     "end_time": "2023-08-18T06:38:48.786806800Z",
     "start_time": "2023-08-18T06:38:48.769371900Z"
    }
   },
   "outputs": [],
   "source": [
    "import pandas as pd\n",
    "from dataclasses import dataclass, field\n",
    "from taxonomy.utilities.params import EvaluationMetricNames\n",
    "import enum"
   ]
  },
  {
   "cell_type": "code",
   "execution_count": 16,
   "id": "2d21f8bbc5e3ac75",
   "metadata": {
    "collapsed": false,
    "ExecuteTime": {
     "end_time": "2023-08-18T06:41:57.097640800Z",
     "start_time": "2023-08-18T06:41:57.087362700Z"
    }
   },
   "outputs": [],
   "source": [
    "columns = []"
   ]
  },
  {
   "cell_type": "code",
   "execution_count": 37,
   "id": "ab3934a5",
   "metadata": {
    "ExecuteTime": {
     "end_time": "2023-08-18T06:57:05.215247500Z",
     "start_time": "2023-08-18T06:57:05.194102500Z"
    }
   },
   "outputs": [
    {
     "data": {
      "text/plain": "MultiIndex([('a', 'c'),\n            ('a', 'd'),\n            ('b', 'c'),\n            ('b', 'd')],\n           )"
     },
     "execution_count": 37,
     "metadata": {},
     "output_type": "execute_result"
    }
   ],
   "source": [
    "import itertools\n",
    "\n",
    "a = ['a', 'b'], ['c', 'd']\n",
    "list(itertools.product(*a))\n",
    "pd.MultiIndex.from_product(a)"
   ]
  }
 ],
 "metadata": {
  "kernelspec": {
   "display_name": "Python 3",
   "language": "python",
   "name": "python3"
  },
  "language_info": {
   "codemirror_mode": {
    "name": "ipython",
    "version": 3
   },
   "file_extension": ".py",
   "mimetype": "text/x-python",
   "name": "python",
   "nbconvert_exporter": "python",
   "pygments_lexer": "ipython3",
   "version": "3.10.12"
  }
 },
 "nbformat": 4,
 "nbformat_minor": 5
}
