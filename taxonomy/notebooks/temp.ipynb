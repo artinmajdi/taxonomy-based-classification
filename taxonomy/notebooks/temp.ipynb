{
 "cells": [
  {
   "cell_type": "code",
   "execution_count": 3,
   "outputs": [],
   "source": [
    "from taxonomy.utilities.settings import get_settings\n",
    "\n",
    "config = get_settings(config_name='../config.json')\n"
   ],
   "metadata": {
    "collapsed": false,
    "ExecuteTime": {
     "end_time": "2023-08-25T19:34:52.853169Z",
     "start_time": "2023-08-25T19:34:52.847905500Z"
    }
   },
   "id": "f83dc4fd2c5095cf"
  },
  {
   "cell_type": "code",
   "execution_count": 16,
   "outputs": [
    {
     "data": {
      "text/plain": "WindowsPath('F:/GitHubs/PhD/phd_code/submodules/taxonomy/taxonomy/notebooks/this/that.pdf')"
     },
     "execution_count": 16,
     "metadata": {},
     "output_type": "execute_result"
    }
   ],
   "source": [
    "import pathlib \n",
    "\n",
    "pathlib.Path('this/that.pdf').resolve()"
   ],
   "metadata": {
    "collapsed": false,
    "ExecuteTime": {
     "end_time": "2023-08-25T19:42:19.400352500Z",
     "start_time": "2023-08-25T19:42:19.391014700Z"
    }
   },
   "id": "ac132db3086ad03d"
  },
  {
   "cell_type": "code",
   "execution_count": null,
   "outputs": [],
   "source": [],
   "metadata": {
    "collapsed": false
   },
   "id": "d6d5315b54e6dbab"
  }
 ],
 "metadata": {
  "kernelspec": {
   "display_name": "Python 3",
   "language": "python",
   "name": "python3"
  },
  "language_info": {
   "codemirror_mode": {
    "name": "ipython",
    "version": 3
   },
   "file_extension": ".py",
   "mimetype": "text/x-python",
   "name": "python",
   "nbconvert_exporter": "python",
   "pygments_lexer": "ipython3",
   "version": "3.10.12"
  }
 },
 "nbformat": 4,
 "nbformat_minor": 5
}
