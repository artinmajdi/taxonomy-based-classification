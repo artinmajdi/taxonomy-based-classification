{
 "cells": [
  {
   "cell_type": "code",
   "execution_count": 1,
   "id": "6cf777f5cb7e326a",
   "metadata": {
    "ExecuteTime": {
     "end_time": "2023-09-18T20:26:02.248411500Z",
     "start_time": "2023-09-18T20:25:58.842162300Z"
    },
    "collapsed": false
   },
   "outputs": [],
   "source": [
    "%load_ext autoreload\n",
    "%autoreload 2\n",
    "\n",
    "from taxonomy.utilities.settings import get_settings\n",
    "from taxonomy.utilities.data import LoadChestXrayDatasets\n",
    "\n",
    "config = get_settings(config_path='../config.json')"
   ]
  },
  {
   "cell_type": "code",
   "execution_count": 2,
   "id": "eaee88bf874db89d",
   "metadata": {
    "ExecuteTime": {
     "end_time": "2023-09-13T23:37:24.778127100Z",
     "start_time": "2023-09-13T23:37:24.766008100Z"
    },
    "collapsed": false
   },
   "outputs": [],
   "source": [
    "LCD = LoadChestXrayDatasets(config=config, datasetInfo=config.dataset.datasetInfoList[0])"
   ]
  },
  {
   "cell_type": "code",
   "execution_count": 10,
   "id": "bc708f06",
   "metadata": {},
   "outputs": [
    {
     "ename": "TypeError",
     "evalue": "CheX_Dataset.__init__() got an unexpected keyword argument 'metacsvpath'",
     "output_type": "error",
     "traceback": [
      "\u001B[1;31m---------------------------------------------------------------------------\u001B[0m",
      "\u001B[1;31mTypeError\u001B[0m                                 Traceback (most recent call last)",
      "\u001B[1;32mf:\\GitHubs\\PhD\\phd_code\\submodules\\taxonomy\\taxonomy\\notebooks\\temp.ipynb Cell 3\u001B[0m line \u001B[0;36m1\n\u001B[1;32m----> <a href='vscode-notebook-cell:/f%3A/GitHubs/PhD/phd_code/submodules/taxonomy/taxonomy/notebooks/temp.ipynb#X13sZmlsZQ%3D%3D?line=0'>1</a>\u001B[0m LCD\u001B[39m.\u001B[39;49mload_raw_database()\n",
      "File \u001B[1;32mf:\\githubs\\phd\\phd_code\\submodules\\taxonomy\\taxonomy\\utilities\\data.py:251\u001B[0m, in \u001B[0;36mLoadChestXrayDatasets.load_raw_database\u001B[1;34m(self)\u001B[0m\n\u001B[0;32m    239\u001B[0m \u001B[39mself\u001B[39m\u001B[39m.\u001B[39mdatasetInfo\u001B[39m.\u001B[39mparams_config\u001B[39m.\u001B[39mupdate( {\u001B[39m'\u001B[39m\u001B[39mtransform\u001B[39m\u001B[39m'\u001B[39m: transform} )\n\u001B[0;32m    241\u001B[0m dataset_getter \u001B[39m=\u001B[39m {\n\u001B[0;32m    242\u001B[0m \t\tDatasetNames\u001B[39m.\u001B[39mNIH       : xrv\u001B[39m.\u001B[39mdatasets\u001B[39m.\u001B[39mNIH_Dataset,\n\u001B[0;32m    243\u001B[0m \t\tDatasetNames\u001B[39m.\u001B[39mPC        : xrv\u001B[39m.\u001B[39mdatasets\u001B[39m.\u001B[39mPC_Dataset,\n\u001B[1;32m   (...)\u001B[0m\n\u001B[0;32m    249\u001B[0m \t\tDatasetNames\u001B[39m.\u001B[39mNIH_GOOGLE: xrv\u001B[39m.\u001B[39mdatasets\u001B[39m.\u001B[39mNIH_Google_Dataset\n\u001B[0;32m    250\u001B[0m \t\t}\n\u001B[1;32m--> 251\u001B[0m \u001B[39mself\u001B[39m\u001B[39m.\u001B[39mdataset \u001B[39m=\u001B[39m dataset_getter[\u001B[39mself\u001B[39m\u001B[39m.\u001B[39mdatasetInfo\u001B[39m.\u001B[39mdatasetName](\u001B[39m*\u001B[39m\u001B[39m*\u001B[39m\u001B[39mself\u001B[39m\u001B[39m.\u001B[39mdatasetInfo\u001B[39m.\u001B[39mparams_config)\n\u001B[0;32m    253\u001B[0m \u001B[39mreturn\u001B[39;00m \u001B[39mself\u001B[39m\n",
      "\u001B[1;31mTypeError\u001B[0m: CheX_Dataset.__init__() got an unexpected keyword argument 'metacsvpath'"
     ]
    }
   ],
   "source": [
    "LCD.load_raw_database()"
   ]
  },
  {
   "cell_type": "code",
   "execution_count": 18,
   "id": "11911e9e",
   "metadata": {
    "ExecuteTime": {
     "end_time": "2023-09-18T21:52:26.422161100Z",
     "start_time": "2023-09-18T21:52:24.182102100Z"
    }
   },
   "outputs": [
    {
     "data": {
      "text/plain": "'USE_INCLUDED_FILE'"
     },
     "execution_count": 18,
     "metadata": {},
     "output_type": "execute_result"
    }
   ],
   "source": [
    "import torchxrayvision as xrv \n",
    "\n",
    "a = xrv.datasets.USE_INCLUDED_FILE\n",
    "'sTRING' and a"
   ]
  }
 ],
 "metadata": {
  "kernelspec": {
   "display_name": "Python 3",
   "language": "python",
   "name": "python3"
  },
  "language_info": {
   "codemirror_mode": {
    "name": "ipython",
    "version": 3
   },
   "file_extension": ".py",
   "mimetype": "text/x-python",
   "name": "python",
   "nbconvert_exporter": "python",
   "pygments_lexer": "ipython3",
   "version": "3.10.12"
  }
 },
 "nbformat": 4,
 "nbformat_minor": 5
}
