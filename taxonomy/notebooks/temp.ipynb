{
 "cells": [
  {
   "cell_type": "code",
   "execution_count": 6,
   "outputs": [
    {
     "ename": "SyntaxError",
     "evalue": "'(' was never closed (data.py, line 411)",
     "output_type": "error",
     "traceback": [
      "Traceback \u001B[1;36m(most recent call last)\u001B[0m:\n",
      "\u001B[0m  File \u001B[0;32m~\\.conda\\envs\\taxonomy\\lib\\site-packages\\IPython\\core\\interactiveshell.py:3508\u001B[0m in \u001B[0;35mrun_code\u001B[0m\n    exec(code_obj, self.user_global_ns, self.user_ns)\u001B[0m\n",
      "\u001B[0m  Cell \u001B[0;32mIn[6], line 1\u001B[0m\n    from taxonomy.utilities.settings import get_settings\u001B[0m\n",
      "\u001B[0m  File \u001B[0;32mF:\\GitHubs\\PhD\\phd_code\\submodules\\taxonomy\\taxonomy\\__init__.py:1\u001B[0m\n    from .utilities import data, params, utils, findings, model, settings\u001B[0m\n",
      "\u001B[1;36m  File \u001B[1;32mF:\\GitHubs\\PhD\\phd_code\\submodules\\taxonomy\\taxonomy\\utilities\\__init__.py:1\u001B[1;36m\n\u001B[1;33m    from . import data, model, params, settings\u001B[1;36m\n",
      "\u001B[1;36m  File \u001B[1;32mF:\\GitHubs\\PhD\\phd_code\\submodules\\taxonomy\\taxonomy\\utilities\\data.py:411\u001B[1;36m\u001B[0m\n\u001B[1;33m    self.load_raw_database( datasetInfo=datasetName\u001B[0m\n\u001B[1;37m                          ^\u001B[0m\n\u001B[1;31mSyntaxError\u001B[0m\u001B[1;31m:\u001B[0m '(' was never closed\n"
     ]
    }
   ],
   "source": [
    "from taxonomy.utilities.settings import get_settings\n",
    "\n",
    "config = get_settings()"
   ],
   "metadata": {
    "collapsed": false,
    "ExecuteTime": {
     "end_time": "2023-08-30T01:53:04.050315700Z",
     "start_time": "2023-08-30T01:53:03.988571400Z"
    }
   },
   "id": "f83dc4fd2c5095cf"
  },
  {
   "cell_type": "code",
   "execution_count": null,
   "outputs": [],
   "source": [],
   "metadata": {
    "collapsed": false
   },
   "id": "c0bfb4c42f974887"
  }
 ],
 "metadata": {
  "kernelspec": {
   "display_name": "Python 3",
   "language": "python",
   "name": "python3"
  },
  "language_info": {
   "codemirror_mode": {
    "name": "ipython",
    "version": 3
   },
   "file_extension": ".py",
   "mimetype": "text/x-python",
   "name": "python",
   "nbconvert_exporter": "python",
   "pygments_lexer": "ipython3",
   "version": "3.10.12"
  }
 },
 "nbformat": 4,
 "nbformat_minor": 5
}
