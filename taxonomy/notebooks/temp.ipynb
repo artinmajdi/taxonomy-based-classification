{
 "cells": [
  {
   "cell_type": "code",
   "execution_count": 5,
   "outputs": [],
   "source": [
    "import numpy as np\n",
    "import pandas as pd "
   ],
   "metadata": {
    "collapsed": false,
    "ExecuteTime": {
     "end_time": "2023-09-05T03:03:42.069174800Z",
     "start_time": "2023-09-05T03:03:41.415308600Z"
    }
   },
   "id": "c0bfb4c42f974887"
  },
  {
   "cell_type": "code",
   "execution_count": 6,
   "outputs": [
    {
     "data": {
      "text/plain": "array([0.41603935, 0.45513661,        nan, 0.11126386, 0.59326309])"
     },
     "execution_count": 6,
     "metadata": {},
     "output_type": "execute_result"
    }
   ],
   "source": [
    "y = np.random.rand(5,)\n",
    "y[2] = np.nan\n",
    "# y = pd.Series(y)\n",
    "y"
   ],
   "metadata": {
    "collapsed": false,
    "ExecuteTime": {
     "end_time": "2023-09-05T03:03:42.486066700Z",
     "start_time": "2023-09-05T03:03:42.462329200Z"
    }
   },
   "id": "1b2b7d58594ce627"
  },
  {
   "cell_type": "code",
   "execution_count": 3,
   "outputs": [
    {
     "ename": "TypeError",
     "evalue": "unhashable type: 'numpy.ndarray'",
     "output_type": "error",
     "traceback": [
      "\u001B[1;31m---------------------------------------------------------------------------\u001B[0m",
      "\u001B[1;31mTypeError\u001B[0m                                 Traceback (most recent call last)",
      "Cell \u001B[1;32mIn[3], line 11\u001B[0m\n\u001B[0;32m      8\u001B[0m \t\u001B[38;5;28;01mreturn\u001B[39;00m factorial(n\u001B[38;5;241m-\u001B[39m\u001B[38;5;241m1\u001B[39m) \u001B[38;5;241m+\u001B[39m factorial(n\u001B[38;5;241m-\u001B[39m\u001B[38;5;241m2\u001B[39m) \u001B[38;5;28;01mif\u001B[39;00m n\u001B[38;5;241m>\u001B[39m\u001B[38;5;241m=\u001B[39m\u001B[38;5;241m2\u001B[39m \u001B[38;5;28;01melse\u001B[39;00m \u001B[38;5;241m1\u001B[39m\n\u001B[0;32m     10\u001B[0m start \u001B[38;5;241m=\u001B[39m perf_counter()\n\u001B[1;32m---> 11\u001B[0m t \u001B[38;5;241m=\u001B[39m \u001B[43mfactorial\u001B[49m\u001B[43m(\u001B[49m\u001B[38;5;241;43m35\u001B[39;49m\u001B[43m,\u001B[49m\u001B[43m \u001B[49m\u001B[43mnp\u001B[49m\u001B[38;5;241;43m.\u001B[39;49m\u001B[43mrandom\u001B[49m\u001B[38;5;241;43m.\u001B[39;49m\u001B[43mrand\u001B[49m\u001B[43m(\u001B[49m\u001B[38;5;241;43m5\u001B[39;49m\u001B[43m,\u001B[49m\u001B[43m)\u001B[49m\u001B[43m)\u001B[49m\n\u001B[0;32m     12\u001B[0m end \u001B[38;5;241m=\u001B[39m perf_counter()\n\u001B[0;32m     13\u001B[0m \u001B[38;5;28mprint\u001B[39m(y, end \u001B[38;5;241m-\u001B[39m start)\n",
      "\u001B[1;31mTypeError\u001B[0m: unhashable type: 'numpy.ndarray'"
     ]
    }
   ],
   "source": [
    "from functools import cache\n",
    "from time import perf_counter\n",
    "import numpy as np \n",
    "\n",
    "@cache\n",
    "def factorial(n, y: np.ndarray=None):\n",
    "\ty = tuple(y)\n",
    "\treturn factorial(n-1) + factorial(n-2) if n>=2 else 1\n",
    "\n",
    "start = perf_counter()\n",
    "t = factorial(35, np.random.rand(5,))\n",
    "end = perf_counter()\n",
    "print(y, end - start)"
   ],
   "metadata": {
    "collapsed": false,
    "ExecuteTime": {
     "end_time": "2023-09-05T03:05:01.839048200Z",
     "start_time": "2023-09-05T03:05:01.815353900Z"
    }
   },
   "id": "173b8cacc0319d64"
  },
  {
   "cell_type": "code",
   "execution_count": 74,
   "outputs": [
    {
     "data": {
      "text/plain": "5"
     },
     "execution_count": 74,
     "metadata": {},
     "output_type": "execute_result"
    }
   ],
   "source": [
    "import numpy as np \n",
    "import pandas as pd \n",
    "a = np.random.rand(5)\n",
    "a = pd.Series(a)\n",
    "a.to_numpy()"
   ],
   "metadata": {
    "collapsed": false,
    "ExecuteTime": {
     "end_time": "2023-09-06T04:51:33.354470Z",
     "start_time": "2023-09-06T04:51:33.335971900Z"
    }
   },
   "id": "9f4512c81ec9fb6a"
  }
 ],
 "metadata": {
  "kernelspec": {
   "display_name": "Python 3",
   "language": "python",
   "name": "python3"
  },
  "language_info": {
   "codemirror_mode": {
    "name": "ipython",
    "version": 3
   },
   "file_extension": ".py",
   "mimetype": "text/x-python",
   "name": "python",
   "nbconvert_exporter": "python",
   "pygments_lexer": "ipython3",
   "version": "3.10.12"
  }
 },
 "nbformat": 4,
 "nbformat_minor": 5
}
