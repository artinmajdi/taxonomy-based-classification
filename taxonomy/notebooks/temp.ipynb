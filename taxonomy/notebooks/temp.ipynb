{
 "cells": [
  {
   "cell_type": "code",
   "execution_count": null,
   "outputs": [],
   "source": [
    "from functools import cache\n",
    "from time import perf_counter\n",
    "import numpy as np \n",
    "\n",
    "@cache\n",
    "def factorial(n, y: np.ndarray=None):\n",
    "\ty = tuple(y)\n",
    "\treturn factorial(n-1) + factorial(n-2) if n>=2 else 1\n",
    "\n",
    "start = perf_counter()\n",
    "t = factorial(35, np.random.rand(5,))\n",
    "end = perf_counter()\n",
    "print(y, end - start)"
   ],
   "metadata": {
    "collapsed": false
   },
   "id": "173b8cacc0319d64"
  },
  {
   "cell_type": "code",
   "execution_count": 1,
   "outputs": [],
   "source": [
    "import networkx as nx\n",
    "from taxonomy.utilities.data import Nodes, LoadChestXrayDatasets\n",
    "from taxonomy.utilities.settings import get_settings\n",
    "config = get_settings(config_path='../config.json')\n"
   ],
   "metadata": {
    "collapsed": false,
    "ExecuteTime": {
     "end_time": "2023-09-08T03:02:17.598231200Z",
     "start_time": "2023-09-08T03:02:13.134163400Z"
    }
   },
   "id": "6cf777f5cb7e326a"
  },
  {
   "cell_type": "code",
   "execution_count": 2,
   "outputs": [
    {
     "ename": "AttributeError",
     "evalue": "'NoneType' object has no attribute 'labels'",
     "output_type": "error",
     "traceback": [
      "\u001B[1;31m---------------------------------------------------------------------------\u001B[0m",
      "\u001B[1;31mAttributeError\u001B[0m                            Traceback (most recent call last)",
      "Cell \u001B[1;32mIn[2], line 1\u001B[0m\n\u001B[1;32m----> 1\u001B[0m \u001B[43mLoadChestXrayDatasets\u001B[49m\u001B[38;5;241;43m.\u001B[39;49m\u001B[43mload\u001B[49m\u001B[43m(\u001B[49m\u001B[43mconfig\u001B[49m\u001B[43m)\u001B[49m\n",
      "File \u001B[1;32mF:\\GitHubs\\PhD\\phd_code\\submodules\\taxonomy\\taxonomy\\utilities\\data.py:412\u001B[0m, in \u001B[0;36mLoadChestXrayDatasets.load\u001B[1;34m(cls, config)\u001B[0m\n\u001B[0;32m    410\u001B[0m dt_test_list  \u001B[38;5;241m=\u001B[39m []\n\u001B[0;32m    411\u001B[0m \u001B[38;5;28;01mfor\u001B[39;00m i, datasetInfo \u001B[38;5;129;01min\u001B[39;00m \u001B[38;5;28menumerate\u001B[39m(config\u001B[38;5;241m.\u001B[39mdataset\u001B[38;5;241m.\u001B[39mdatasetInfoList):\n\u001B[1;32m--> 412\u001B[0m \tdt_train_list[i], dt_test_list[i] \u001B[38;5;241m=\u001B[39m \u001B[38;5;28;43mcls\u001B[39;49m\u001B[43m(\u001B[49m\u001B[43mconfig\u001B[49m\u001B[38;5;241;43m=\u001B[39;49m\u001B[43mconfig\u001B[49m\u001B[43m,\u001B[49m\u001B[43m \u001B[49m\u001B[43mdatasetInfo\u001B[49m\u001B[38;5;241;43m=\u001B[39;49m\u001B[43mdatasetInfo\u001B[49m\u001B[43m)\u001B[49m\u001B[38;5;241m.\u001B[39m_load_one_dataset()\n\u001B[0;32m    414\u001B[0m dataset_train \u001B[38;5;241m=\u001B[39m xrv\u001B[38;5;241m.\u001B[39mdatasets\u001B[38;5;241m.\u001B[39mMerge_Dataset( datasets \u001B[38;5;241m=\u001B[39m dt_train_list )\n\u001B[0;32m    415\u001B[0m dataset_test  \u001B[38;5;241m=\u001B[39m xrv\u001B[38;5;241m.\u001B[39mdatasets\u001B[38;5;241m.\u001B[39mMerge_Dataset( datasets \u001B[38;5;241m=\u001B[39m dt_test_list  )\n",
      "File \u001B[1;32m<string>:10\u001B[0m, in \u001B[0;36m__init__\u001B[1;34m(self, config, datasetInfo, dataset, labels, nodes, train, test)\u001B[0m\n",
      "File \u001B[1;32mF:\\GitHubs\\PhD\\phd_code\\submodules\\taxonomy\\taxonomy\\utilities\\data.py:235\u001B[0m, in \u001B[0;36mLoadChestXrayDatasets.__post_init__\u001B[1;34m(self)\u001B[0m\n\u001B[0;32m    234\u001B[0m \u001B[38;5;28;01mdef\u001B[39;00m \u001B[38;5;21m__post_init__\u001B[39m(\u001B[38;5;28mself\u001B[39m):\n\u001B[1;32m--> 235\u001B[0m \t\u001B[38;5;28mself\u001B[39m\u001B[38;5;241m.\u001B[39mlabels \u001B[38;5;241m=\u001B[39m \u001B[43mData\u001B[49m\u001B[38;5;241;43m.\u001B[39;49m\u001B[43mcreate_labels_dataframe\u001B[49m\u001B[43m(\u001B[49m\u001B[38;5;28;43mself\u001B[39;49m\u001B[38;5;241;43m.\u001B[39;49m\u001B[43mdataset\u001B[49m\u001B[43m)\u001B[49m\n\u001B[0;32m    236\u001B[0m \t\u001B[38;5;28mself\u001B[39m\u001B[38;5;241m.\u001B[39mnodes  \u001B[38;5;241m=\u001B[39m Data\u001B[38;5;241m.\u001B[39mcreate_nodes(\u001B[38;5;28mself\u001B[39m\u001B[38;5;241m.\u001B[39mlabels)\n\u001B[0;32m    237\u001B[0m \t\u001B[38;5;28mself\u001B[39m\u001B[38;5;241m.\u001B[39mload_raw_database()\u001B[38;5;241m.\u001B[39mrelabel_raw_database()\n",
      "File \u001B[1;32mF:\\GitHubs\\PhD\\phd_code\\submodules\\taxonomy\\taxonomy\\utilities\\data.py:211\u001B[0m, in \u001B[0;36mData.create_labels_dataframe\u001B[1;34m(dataset)\u001B[0m\n\u001B[0;32m    209\u001B[0m \u001B[38;5;129m@staticmethod\u001B[39m\n\u001B[0;32m    210\u001B[0m \u001B[38;5;28;01mdef\u001B[39;00m \u001B[38;5;21mcreate_labels_dataframe\u001B[39m(dataset: xrv\u001B[38;5;241m.\u001B[39mdatasets\u001B[38;5;241m.\u001B[39mDataset) \u001B[38;5;241m-\u001B[39m\u001B[38;5;241m>\u001B[39m pd\u001B[38;5;241m.\u001B[39mDataFrame:\n\u001B[1;32m--> 211\u001B[0m \t\u001B[38;5;28;01mreturn\u001B[39;00m pd\u001B[38;5;241m.\u001B[39mDataFrame(\u001B[43mdataset\u001B[49m\u001B[38;5;241;43m.\u001B[39;49m\u001B[43mlabels\u001B[49m, columns\u001B[38;5;241m=\u001B[39mdataset\u001B[38;5;241m.\u001B[39mpathologies)\n",
      "\u001B[1;31mAttributeError\u001B[0m: 'NoneType' object has no attribute 'labels'"
     ]
    }
   ],
   "source": [
    "LoadChestXrayDatasets.load(config)"
   ],
   "metadata": {
    "collapsed": false,
    "ExecuteTime": {
     "end_time": "2023-09-08T03:02:32.669501500Z",
     "start_time": "2023-09-08T03:02:31.318637400Z"
    }
   },
   "id": "dc9d96e7d89a4bc9"
  }
 ],
 "metadata": {
  "kernelspec": {
   "display_name": "Python 3",
   "language": "python",
   "name": "python3"
  },
  "language_info": {
   "codemirror_mode": {
    "name": "ipython",
    "version": 3
   },
   "file_extension": ".py",
   "mimetype": "text/x-python",
   "name": "python",
   "nbconvert_exporter": "python",
   "pygments_lexer": "ipython3",
   "version": "3.10.12"
  }
 },
 "nbformat": 4,
 "nbformat_minor": 5
}
