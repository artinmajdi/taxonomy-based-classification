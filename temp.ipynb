{
 "cells": [
  {
   "cell_type": "code",
   "execution_count": 73,
   "id": "initial_id",
   "metadata": {
    "collapsed": true,
    "ExecuteTime": {
     "end_time": "2023-08-09T11:57:54.262678200Z",
     "start_time": "2023-08-09T11:57:54.213853900Z"
    }
   },
   "outputs": [
    {
     "data": {
      "text/plain": "<DatasetList.NIH: 'NIH'>"
     },
     "execution_count": 73,
     "metadata": {},
     "output_type": "execute_result"
    }
   ],
   "source": [
    "import enum\n",
    "\n",
    "class DatasetList(enum.Enum):\n",
    "\tPC  : str = 'PC'\n",
    "\tNIH : str = 'NIH'\n",
    "\tCheX: str = 'CheX'\n",
    "\n",
    "DatasetList['NIH']"
   ]
  }
 ],
 "metadata": {
  "kernelspec": {
   "display_name": "Python 3",
   "language": "python",
   "name": "python3"
  },
  "language_info": {
   "codemirror_mode": {
    "name": "ipython",
    "version": 2
   },
   "file_extension": ".py",
   "mimetype": "text/x-python",
   "name": "python",
   "nbconvert_exporter": "python",
   "pygments_lexer": "ipython2",
   "version": "2.7.6"
  }
 },
 "nbformat": 4,
 "nbformat_minor": 5
}
